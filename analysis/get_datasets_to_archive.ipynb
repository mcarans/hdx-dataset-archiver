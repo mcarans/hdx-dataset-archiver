{
 "cells": [
  {
   "cell_type": "code",
   "execution_count": 1,
   "id": "31f3c8f6-9188-4159-8be8-f3a2a1d7da61",
   "metadata": {},
   "outputs": [
    {
     "data": {
      "text/html": [
       "\n",
       "                <script type=\"application/javascript\" id=\"jupyter_black\">\n",
       "                (function() {\n",
       "                    if (window.IPython === undefined) {\n",
       "                        return\n",
       "                    }\n",
       "                    var msg = \"WARNING: it looks like you might have loaded \" +\n",
       "                        \"jupyter_black in a non-lab notebook with \" +\n",
       "                        \"`is_lab=True`. Please double check, and if \" +\n",
       "                        \"loading with `%load_ext` please review the README!\"\n",
       "                    console.log(msg)\n",
       "                    alert(msg)\n",
       "                })()\n",
       "                </script>\n",
       "                "
      ],
      "text/plain": [
       "<IPython.core.display.HTML object>"
      ]
     },
     "metadata": {},
     "output_type": "display_data"
    }
   ],
   "source": [
    "from datetime import datetime\n",
    "\n",
    "import jupyter_black\n",
    "import pandas as pd\n",
    "\n",
    "jupyter_black.load()"
   ]
  },
  {
   "cell_type": "code",
   "execution_count": 2,
   "id": "244515fa-f897-41d7-9515-f9309e55742a",
   "metadata": {},
   "outputs": [],
   "source": [
    "# URL of dataset CSV. Be sure to regenerate for the\n",
    "# current year before running.\n",
    "DATASET_INFO_CSV = (\n",
    "    \"https://raw.githubusercontent.com/OCHA-DAP/\"\n",
    "    + \"hdx-analysis-scripts/gh-pages/datasets_info/datasets.csv\"\n",
    ")\n",
    "# We only want to consider datasets 5 years or older\n",
    "# e.g. In January 2022, we archived datasets created\n",
    "# before 31 December 2016. UPPER_BOUND_YEAR should\n",
    "# be used with an exclusive < (i.e. dataset years < UPPER_BOUND_YEAR)\n",
    "UPPER_BOUND_YEAR = datetime.today().year - 5\n",
    "# Max number of downloads in the past 5 years\n",
    "MAX_DOWNLOADS = 1_000"
   ]
  },
  {
   "cell_type": "code",
   "execution_count": 3,
   "id": "15c97674-4c6c-4612-b547-aeee6d335cc1",
   "metadata": {},
   "outputs": [
    {
     "data": {
      "text/plain": [
       "2019"
      ]
     },
     "execution_count": 3,
     "metadata": {},
     "output_type": "execute_result"
    }
   ],
   "source": [
    "UPPER_BOUND_YEAR"
   ]
  },
  {
   "cell_type": "code",
   "execution_count": 4,
   "id": "4ba257f9-9c9a-4ea7-9377-4baaa509fe77",
   "metadata": {},
   "outputs": [],
   "source": [
    "# Takes awhile to read in because it's a large file\n",
    "df = pd.read_csv(DATASET_INFO_CSV)"
   ]
  },
  {
   "cell_type": "code",
   "execution_count": 5,
   "id": "1f0a4737-26cc-4c58-9863-70d7f7001d28",
   "metadata": {},
   "outputs": [
    {
     "data": {
      "text/plain": [
       "26971"
      ]
     },
     "execution_count": 5,
     "metadata": {},
     "output_type": "execute_result"
    }
   ],
   "source": [
    "# The number of rows\n",
    "df.shape[0]"
   ]
  },
  {
   "cell_type": "code",
   "execution_count": 6,
   "id": "a577de62-2100-43e8-8bf3-660182cee607",
   "metadata": {},
   "outputs": [
    {
     "data": {
      "text/plain": [
       "Index(['name', 'title', 'id', 'downloads last 5 years', 'date created',\n",
       "       'date metadata updated', 'date data updated', 'updated last 3 months',\n",
       "       'updated previous quarter', 'reference period start',\n",
       "       'reference period end', 'update frequency', 'fresh', 'organisation',\n",
       "       'data link', 'url', 'is cod', 'tags', 'public', 'requestable',\n",
       "       'archived', 'updated by cod script', 'updated by non-cod script',\n",
       "       'date updated by script', 'updated_by_script<<last_modified',\n",
       "       'last_modified<<updated_by_script'],\n",
       "      dtype='object')"
      ]
     },
     "execution_count": 6,
     "metadata": {},
     "output_type": "execute_result"
    }
   ],
   "source": [
    "# Let's look at the column names\n",
    "df.columns"
   ]
  },
  {
   "cell_type": "code",
   "execution_count": 7,
   "id": "af69f6a4-47fc-46ef-872b-2e292c75e8b6",
   "metadata": {},
   "outputs": [
    {
     "data": {
      "text/plain": [
       "23144"
      ]
     },
     "execution_count": 7,
     "metadata": {},
     "output_type": "execute_result"
    }
   ],
   "source": [
    "# We don't want datasets that are already archived\n",
    "df_noarchive = df.loc[df[\"archived\"] == \"N\"]\n",
    "df_noarchive.shape[0]"
   ]
  },
  {
   "cell_type": "code",
   "execution_count": 8,
   "id": "38c31c7a-c1b7-4e39-ac4a-b94364019b01",
   "metadata": {},
   "outputs": [
    {
     "data": {
      "text/plain": [
       "4190"
      ]
     },
     "execution_count": 8,
     "metadata": {},
     "output_type": "execute_result"
    }
   ],
   "source": [
    "# We only want to consider datasets that were created more than 5 years ago\n",
    "df_noarchive_5yo = df_noarchive.loc[\n",
    "    pd.to_datetime(df_noarchive[\"date created\"]).dt.year < UPPER_BOUND_YEAR\n",
    "]\n",
    "df_noarchive_5yo.shape[0]"
   ]
  },
  {
   "cell_type": "code",
   "execution_count": 9,
   "id": "d6e206ab-7746-49e5-ba6b-9f84599f646c",
   "metadata": {},
   "outputs": [
    {
     "data": {
      "text/plain": [
       "'2018-12-28T08:16:39.642635'"
      ]
     },
     "execution_count": 9,
     "metadata": {},
     "output_type": "execute_result"
    }
   ],
   "source": [
    "# Confirm maximum date is < UPPER_BOUND_YEAR\n",
    "df_noarchive_5yo[\"date created\"].max()"
   ]
  },
  {
   "cell_type": "code",
   "execution_count": 10,
   "id": "d20f82f1-e1af-4295-b31e-67311fb1f8a5",
   "metadata": {},
   "outputs": [
    {
     "data": {
      "text/plain": [
       "3475"
      ]
     },
     "execution_count": 10,
     "metadata": {},
     "output_type": "execute_result"
    }
   ],
   "source": [
    "# Datasets must have < 1000 download counts\n",
    "df_noarchive_5yo_lt1000dl = df_noarchive_5yo.loc[\n",
    "    df_noarchive_5yo[\"downloads last 5 years\"] < MAX_DOWNLOADS\n",
    "]\n",
    "df_noarchive_5yo_lt1000dl.shape[0]"
   ]
  },
  {
   "cell_type": "code",
   "execution_count": 11,
   "id": "01ce0331-3f77-493b-8e7f-1dd2c8a99d54",
   "metadata": {},
   "outputs": [
    {
     "data": {
      "text/plain": [
       "3306"
      ]
     },
     "execution_count": 11,
     "metadata": {},
     "output_type": "execute_result"
    }
   ],
   "source": [
    "# Datasets must not be CODs\n",
    "df_noarchive_5yo_lt1000dl_notcod = df_noarchive_5yo_lt1000dl.loc[\n",
    "    df_noarchive_5yo_lt1000dl[\"is cod\"] == \"N\"\n",
    "]\n",
    "df_noarchive_5yo_lt1000dl_notcod.shape[0]"
   ]
  },
  {
   "cell_type": "code",
   "execution_count": 12,
   "id": "9144f69e-636f-4678-b427-9218ac0e9dd4",
   "metadata": {},
   "outputs": [],
   "source": [
    "# Write to CSV\n",
    "df_noarchive_5yo_lt1000dl_notcod.to_csv(\"output.csv\", index=False)"
   ]
  }
 ],
 "metadata": {
  "jupytext": {
   "formats": "ipynb,md",
   "notebook_metadata_filter": "-all"
  },
  "kernelspec": {
   "display_name": "Python 3 (ipykernel)",
   "language": "python",
   "name": "python3"
  },
  "language_info": {
   "codemirror_mode": {
    "name": "ipython",
    "version": 3
   },
   "file_extension": ".py",
   "mimetype": "text/x-python",
   "name": "python",
   "nbconvert_exporter": "python",
   "pygments_lexer": "ipython3",
   "version": "3.12.3"
  }
 },
 "nbformat": 4,
 "nbformat_minor": 5
}
