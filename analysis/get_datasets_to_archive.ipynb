{
 "cells": [
  {
   "cell_type": "code",
   "execution_count": 1,
   "id": "e731475a",
   "metadata": {},
   "outputs": [
    {
     "data": {
      "text/html": [
       "\n",
       "                <script type=\"application/javascript\" id=\"jupyter_black\">\n",
       "                (function() {\n",
       "                    if (window.IPython === undefined) {\n",
       "                        return\n",
       "                    }\n",
       "                    var msg = \"WARNING: it looks like you might have loaded \" +\n",
       "                        \"jupyter_black in a non-lab notebook with \" +\n",
       "                        \"`is_lab=True`. Please double check, and if \" +\n",
       "                        \"loading with `%load_ext` please review the README!\"\n",
       "                    console.log(msg)\n",
       "                    alert(msg)\n",
       "                })()\n",
       "                </script>\n",
       "                "
      ],
      "text/plain": [
       "<IPython.core.display.HTML object>"
      ]
     },
     "metadata": {},
     "output_type": "display_data"
    }
   ],
   "source": [
    "from datetime import datetime\n",
    "\n",
    "import jupyter_black\n",
    "import pandas as pd\n",
    "\n",
    "jupyter_black.load()"
   ]
  },
  {
   "cell_type": "code",
   "execution_count": 2,
   "id": "cdf04327",
   "metadata": {},
   "outputs": [],
   "source": [
    "# URL of dataset CSV. Be sure to regenerate for the\n",
    "# current year before running.\n",
    "DATASET_INFO_CSV = (\n",
    "    \"https://raw.githubusercontent.com/OCHA-DAP/\"\n",
    "    + \"hdx-analysis-scripts/gh-pages/datasets_info/datasets.csv\"\n",
    ")\n",
    "# We only want to consider datasets 5 years or older\n",
    "# e.g. In January 2022, we archived datasets created\n",
    "# before 31 December 2016. UPPER_BOUND_YEAR should\n",
    "# be used with an exclusive < (i.e. dataset years < UPPER_BOUND_YEAR)\n",
    "UPPER_BOUND_YEAR = datetime.today().year - 5\n",
    "# Max number of downloads in the past 5 years\n",
    "MAX_DOWNLOADS = 1_000"
   ]
  },
  {
   "cell_type": "code",
   "execution_count": 3,
   "id": "a2b92bf2",
   "metadata": {},
   "outputs": [
    {
     "data": {
      "text/plain": [
       "2019"
      ]
     },
     "execution_count": 3,
     "metadata": {},
     "output_type": "execute_result"
    }
   ],
   "source": [
    "UPPER_BOUND_YEAR"
   ]
  },
  {
   "cell_type": "code",
   "execution_count": 4,
   "id": "0d02c96f",
   "metadata": {},
   "outputs": [],
   "source": [
    "# Takes awhile to read in because it's a large file\n",
    "df = pd.read_csv(DATASET_INFO_CSV)"
   ]
  },
  {
   "cell_type": "code",
   "execution_count": 5,
   "id": "fadfa142",
   "metadata": {},
   "outputs": [
    {
     "data": {
      "text/plain": [
       "26971"
      ]
     },
     "execution_count": 5,
     "metadata": {},
     "output_type": "execute_result"
    }
   ],
   "source": [
    "# The number of rows\n",
    "df.shape[0]"
   ]
  },
  {
   "cell_type": "code",
   "execution_count": 6,
   "id": "2aab88e2",
   "metadata": {},
   "outputs": [
    {
     "data": {
      "text/plain": [
       "Index(['name', 'title', 'id', 'downloads last 5 years', 'date created',\n",
       "       'date metadata updated', 'date data updated', 'updated last 3 months',\n",
       "       'updated previous quarter', 'reference period start',\n",
       "       'reference period end', 'update frequency', 'fresh', 'organisation',\n",
       "       'data link', 'url', 'is cod', 'tags', 'public', 'requestable',\n",
       "       'archived', 'updated by cod script', 'updated by non-cod script',\n",
       "       'date updated by script', 'updated_by_script<<last_modified',\n",
       "       'last_modified<<updated_by_script'],\n",
       "      dtype='object')"
      ]
     },
     "execution_count": 6,
     "metadata": {},
     "output_type": "execute_result"
    }
   ],
   "source": [
    "# Let's look at the column names\n",
    "df.columns"
   ]
  },
  {
   "cell_type": "code",
   "execution_count": 7,
   "id": "7c7ea8a0",
   "metadata": {},
   "outputs": [
    {
     "data": {
      "text/plain": [
       "20924"
      ]
     },
     "execution_count": 7,
     "metadata": {},
     "output_type": "execute_result"
    }
   ],
   "source": [
    "# We want datasets that are public and not archived\n",
    "df_publicnoarchive = df.loc[(df[\"public\"] == \"Y\") & (df[\"archived\"] == \"N\")]\n",
    "df_publicnoarchive.shape[0]"
   ]
  },
  {
   "cell_type": "code",
   "execution_count": 8,
   "id": "940c2b71",
   "metadata": {},
   "outputs": [
    {
     "data": {
      "text/plain": [
       "2674"
      ]
     },
     "execution_count": 8,
     "metadata": {},
     "output_type": "execute_result"
    }
   ],
   "source": [
    "# We only want to consider datasets that were created more than 5 years ago\n",
    "df_publicnoarchive_5yo = df_publicnoarchive.loc[\n",
    "    pd.to_datetime(df_publicnoarchive[\"date created\"]).dt.year\n",
    "    < UPPER_BOUND_YEAR\n",
    "]\n",
    "df_publicnoarchive_5yo.shape[0]"
   ]
  },
  {
   "cell_type": "code",
   "execution_count": 9,
   "id": "08f3e2d9",
   "metadata": {},
   "outputs": [
    {
     "data": {
      "text/plain": [
       "'2018-12-28T08:16:39.642635'"
      ]
     },
     "execution_count": 9,
     "metadata": {},
     "output_type": "execute_result"
    }
   ],
   "source": [
    "# Confirm maximum date is < UPPER_BOUND_YEAR\n",
    "df_publicnoarchive_5yo[\"date created\"].max()"
   ]
  },
  {
   "cell_type": "code",
   "execution_count": 10,
   "id": "7b6d2288",
   "metadata": {},
   "outputs": [
    {
     "data": {
      "text/plain": [
       "1964"
      ]
     },
     "execution_count": 10,
     "metadata": {},
     "output_type": "execute_result"
    }
   ],
   "source": [
    "# Datasets must have < 1000 download counts\n",
    "df_publicnoarchive_5yo_lt1000dl = df_publicnoarchive_5yo.loc[\n",
    "    df_publicnoarchive_5yo[\"downloads last 5 years\"] < MAX_DOWNLOADS\n",
    "]\n",
    "df_publicnoarchive_5yo_lt1000dl.shape[0]"
   ]
  },
  {
   "cell_type": "code",
   "execution_count": 11,
   "id": "d81ff41d",
   "metadata": {},
   "outputs": [
    {
     "data": {
      "text/plain": [
       "1795"
      ]
     },
     "execution_count": 11,
     "metadata": {},
     "output_type": "execute_result"
    }
   ],
   "source": [
    "# Datasets must not be CODs\n",
    "df_publicnoarchive_5yo_lt1000dl_notcod = df_publicnoarchive_5yo_lt1000dl.loc[\n",
    "    df_publicnoarchive_5yo_lt1000dl[\"is cod\"] == \"N\"\n",
    "]\n",
    "df_publicnoarchive_5yo_lt1000dl_notcod.shape[0]"
   ]
  },
  {
   "cell_type": "code",
   "execution_count": 12,
   "id": "2c52011b",
   "metadata": {},
   "outputs": [],
   "source": [
    "# Write to CSV\n",
    "df_publicnoarchive_5yo_lt1000dl_notcod.to_csv(\"output.csv\", index=False)"
   ]
  }
 ],
 "metadata": {
  "jupytext": {
   "cell_metadata_filter": "-all",
   "formats": "md,ipynb",
   "main_language": "python",
   "notebook_metadata_filter": "-all"
  },
  "kernelspec": {
   "display_name": "Python 3 (ipykernel)",
   "language": "python",
   "name": "python3"
  },
  "language_info": {
   "codemirror_mode": {
    "name": "ipython",
    "version": 3
   },
   "file_extension": ".py",
   "mimetype": "text/x-python",
   "name": "python",
   "nbconvert_exporter": "python",
   "pygments_lexer": "ipython3",
   "version": "3.12.3"
  }
 },
 "nbformat": 4,
 "nbformat_minor": 5
}
