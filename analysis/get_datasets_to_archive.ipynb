{
 "cells": [
  {
   "cell_type": "code",
   "execution_count": null,
   "id": "e731475a",
   "metadata": {},
   "outputs": [],
   "source": [
    "from datetime import datetime\n",
    "\n",
    "import jupyter_black\n",
    "import pandas as pd\n",
    "\n",
    "jupyter_black.load()"
   ]
  },
  {
   "cell_type": "code",
   "execution_count": null,
   "id": "cdf04327",
   "metadata": {},
   "outputs": [],
   "source": [
    "# URL of dataset CSV. Be sure to regenerate for the\n",
    "# current year before running.\n",
    "DATASET_INFO_CSV = (\n",
    "    \"https://raw.githubusercontent.com/OCHA-DAP/\"\n",
    "    + \"hdx-analysis-scripts/gh-pages/datasets_info/datasets.csv\"\n",
    ")\n",
    "# We only want to consider datasets 5 years or older\n",
    "# e.g. In January 2022, we archived datasets created\n",
    "# before 31 December 2016. UPPER_BOUND_YEAR should\n",
    "# be used with an exclusive < (i.e. dataset years < UPPER_BOUND_YEAR)\n",
    "UPPER_BOUND_YEAR = datetime.today().year - 5\n",
    "# Max number of downloads in the past 5 years\n",
    "MAX_DOWNLOADS = 1_000"
   ]
  },
  {
   "cell_type": "code",
   "execution_count": null,
   "id": "a2b92bf2",
   "metadata": {},
   "outputs": [],
   "source": [
    "UPPER_BOUND_YEAR"
   ]
  },
  {
   "cell_type": "code",
   "execution_count": null,
   "id": "0d02c96f",
   "metadata": {},
   "outputs": [],
   "source": [
    "# Takes awhile to read in because it's a large file\n",
    "df = pd.read_csv(DATASET_INFO_CSV)"
   ]
  },
  {
   "cell_type": "code",
   "execution_count": null,
   "id": "fadfa142",
   "metadata": {},
   "outputs": [],
   "source": [
    "# The number of rows\n",
    "df.shape[0]"
   ]
  },
  {
   "cell_type": "code",
   "execution_count": null,
   "id": "2aab88e2",
   "metadata": {},
   "outputs": [],
   "source": [
    "# Let's look at the column names\n",
    "df.columns"
   ]
  },
  {
   "cell_type": "code",
   "execution_count": null,
   "id": "7c7ea8a0",
   "metadata": {},
   "outputs": [],
   "source": [
    "# We want datasets that are public and not archived\n",
    "df_publicnoarchive = df.loc[(df[\"public\"] == \"Y\") & (df[\"archived\"] == \"N\")]\n",
    "df_publicnoarchive.shape[0]"
   ]
  },
  {
   "cell_type": "code",
   "execution_count": null,
   "id": "940c2b71",
   "metadata": {},
   "outputs": [],
   "source": [
    "# We only want to consider datasets that were created more than 5 years ago\n",
    "df_publicnoarchive_5yo = df_publicnoarchive.loc[\n",
    "    pd.to_datetime(df_publicnoarchive[\"date created\"]).dt.year\n",
    "    < UPPER_BOUND_YEAR\n",
    "]\n",
    "df_publicnoarchive_5yo.shape[0]"
   ]
  },
  {
   "cell_type": "code",
   "execution_count": null,
   "id": "08f3e2d9",
   "metadata": {},
   "outputs": [],
   "source": [
    "# Confirm maximum date is < UPPER_BOUND_YEAR\n",
    "df_publicnoarchive_5yo[\"date created\"].max()"
   ]
  },
  {
   "cell_type": "code",
   "execution_count": null,
   "id": "7b6d2288",
   "metadata": {},
   "outputs": [],
   "source": [
    "# Datasets must have < 1000 download counts\n",
    "df_publicnoarchive_5yo_lt1000dl = df_publicnoarchive_5yo.loc[\n",
    "    df_publicnoarchive_5yo[\"downloads last 5 years\"] < MAX_DOWNLOADS\n",
    "]\n",
    "df_publicnoarchive_5yo_lt1000dl.shape[0]"
   ]
  },
  {
   "cell_type": "code",
   "execution_count": null,
   "id": "d81ff41d",
   "metadata": {},
   "outputs": [],
   "source": [
    "# Datasets must not be CODs\n",
    "df_publicnoarchive_5yo_lt1000dl_notcod = df_publicnoarchive_5yo_lt1000dl.loc[\n",
    "    df_publicnoarchive_5yo_lt1000dl[\"is cod\"] == \"N\"\n",
    "]\n",
    "df_publicnoarchive_5yo_lt1000dl_notcod.shape[0]"
   ]
  },
  {
   "cell_type": "code",
   "execution_count": null,
   "id": "2c52011b",
   "metadata": {},
   "outputs": [],
   "source": [
    "# Write to CSV\n",
    "df_publicnoarchive_5yo_lt1000dl_notcod.to_csv(\"output.csv\", index=False)"
   ]
  }
 ],
 "metadata": {
  "jupytext": {
   "cell_metadata_filter": "-all",
   "formats": "md,ipynb",
   "main_language": "python",
   "notebook_metadata_filter": "-all"
  },
  "kernelspec": {
   "display_name": "Python 3 (ipykernel)",
   "language": "python",
   "name": "python3"
  },
  "language_info": {
   "codemirror_mode": {
    "name": "ipython",
    "version": 3
   },
   "file_extension": ".py",
   "mimetype": "text/x-python",
   "name": "python",
   "nbconvert_exporter": "python",
   "pygments_lexer": "ipython3",
   "version": "3.12.3"
  }
 },
 "nbformat": 4,
 "nbformat_minor": 5
}
